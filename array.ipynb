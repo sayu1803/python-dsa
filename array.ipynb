{
 "cells": [
  {
   "cell_type": "code",
   "execution_count": null,
   "metadata": {},
   "outputs": [],
   "source": [
    "#1d array"
   ]
  },
  {
   "cell_type": "code",
   "execution_count": 2,
   "metadata": {},
   "outputs": [
    {
     "data": {
      "text/plain": [
       "array([1, 2, 3, 4, 5])"
      ]
     },
     "execution_count": 2,
     "metadata": {},
     "output_type": "execute_result"
    }
   ],
   "source": [
    "import numpy as np\n",
    "a=[1,2,3,4,5]\n",
    "myarr=np.array(a)\n",
    "myarr"
   ]
  },
  {
   "cell_type": "code",
   "execution_count": null,
   "metadata": {},
   "outputs": [],
   "source": [
    "#2d array\n",
    "#wap to create a n*m array after creating the array then it would take inputs of each pos"
   ]
  },
  {
   "cell_type": "code",
   "execution_count": 6,
   "metadata": {},
   "outputs": [],
   "source": [
    "import numpy as np\n",
    "\n",
    "def create_and_fill_matrix(n, m):\n",
    "    # Create an n x m matrix filled with zeros\n",
    "    matrix = np.zeros((n, m), dtype=int)\n",
    "    \n",
    "    # Take inputs for each element in the matrix\n",
    "    print(f\"Please enter the elements for a {n}x{m} matrix:\")\n",
    "    for i in range(n):\n",
    "        for j in range(m):\n",
    "            matrix[i][j] = int(input(f\"Enter element at position ({i}, {j}): \"))\n",
    "    \n",
    "    return matrix\n",
    "\n",
    "def main():\n",
    "    # Input dimensions of the matrix\n",
    "    n = int(input(\"Enter the number of rows (n): \"))\n",
    "    m = int(input(\"Enter the number of columns (m): \"))\n",
    "    \n",
    "    # Create and fill the matrix\n",
    "    matrix = create_and_fill_matrix(n, m)\n",
    "    \n",
    "    # Print the resulting matrix\n",
    "    print(\"The resulting matrix is:\")\n",
    "    print(matrix)\n",
    "\n",
    "if __name__ == \"__main__\":\n",
    "    main()\n"
   ]
  },
  {
   "cell_type": "code",
   "execution_count": null,
   "metadata": {},
   "outputs": [],
   "source": [
    "#matrix multiplication"
   ]
  },
  {
   "cell_type": "code",
   "execution_count": 2,
   "metadata": {},
   "outputs": [],
   "source": [
    "import numpy as np\n",
    "\n",
    "def create_2_matrix(n, m, x, y):\n",
    "    # Initialize the matrices with zeros\n",
    "    matrix1 = np.zeros((n, m), dtype=int)\n",
    "    matrix2 = np.zeros((x, y), dtype=int)\n",
    "    \n",
    "    # Input elements for the first matrix\n",
    "    print(f\"Please enter the elements for {n}*{m} matrix:\")\n",
    "    for i in range(n):\n",
    "        for j in range(m):\n",
    "            matrix1[i][j] = int(input(f\"Enter the element at position ({i}, {j}): \"))\n",
    "    \n",
    "    # Input elements for the second matrix\n",
    "    print(f\"Please enter the elements for {x}*{y} matrix:\")\n",
    "    for i in range(x):\n",
    "        for j in range(y):\n",
    "            matrix2[i][j] = int(input(f\"Enter the element at position ({i}, {j}): \"))\n",
    "    \n",
    "    # Check if matrix multiplication is possible\n",
    "    \n",
    "    matrixmul = np.zeros((n, y), dtype=int)\n",
    "        \n",
    "    # Perform matrix multiplication\n",
    "    for i in range(n):\n",
    "        for j in range(y):\n",
    "            for k in range(m):  # or for k in range(x), since m == x\n",
    "                matrixmul[i][j] += matrix1[i][k] * matrix2[k][j]\n",
    "        \n",
    "    # Print the result matrix\n",
    "    print(\"Result of matrix multiplication:\")\n",
    "    print(matrixmul)\n",
    "\n",
    "def main():\n",
    "    # Example usage\n",
    "    n = int(input(\"Enter the number of rows for the first matrix (n): \"))\n",
    "    m = int(input(\"Enter the number of columns for the first matrix (m): \"))\n",
    "    x = int(input(\"Enter the number of rows for the second matrix (x): \"))\n",
    "    y = int(input(\"Enter the number of columns for the second matrix (y): \"))\n",
    "\n",
    "    if m!=x:\n",
    "        print(\"Matrix multiplication is not possible.\")\n",
    "        return\n",
    "    \n",
    "    create_2_matrix(n, m, x, y)\n",
    "\n",
    "if __name__ == \"__main__\":\n",
    "    main()\n"
   ]
  }
 ],
 "metadata": {
  "kernelspec": {
   "display_name": "Python 3",
   "language": "python",
   "name": "python3"
  },
  "language_info": {
   "codemirror_mode": {
    "name": "ipython",
    "version": 3
   },
   "file_extension": ".py",
   "mimetype": "text/x-python",
   "name": "python",
   "nbconvert_exporter": "python",
   "pygments_lexer": "ipython3",
   "version": "3.12.1"
  }
 },
 "nbformat": 4,
 "nbformat_minor": 2
}
