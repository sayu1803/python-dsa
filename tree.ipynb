{
 "cells": [
  {
   "cell_type": "code",
   "execution_count": null,
   "metadata": {},
   "outputs": [],
   "source": [
    "#tree\n",
    "\"\"\"\n",
    "                                                        1\n",
    "                                                    /   |   \\\n",
    "                                                    2   3   4\n",
    "                                                   / \\      / \\\n",
    "                                                   5   6    7   8\n",
    "\n",
    "\"\"\"\n",
    "\n",
    "#degreee of tree\n",
    "\"\"\"deg of 1 is 1 i.e root node  \n",
    "deg of 3 is 0\n",
    "deg of 4 is 2\"\"\"\n",
    "\n",
    "#depth and height of tree\n",
    "\n",
    "\"\"\"depth of 5,6,7,8 is 3\n",
    "depth of 2 and 4 is 2\n",
    "depth of 3 is 1\n",
    "depth of 1 is 0\n",
    "\"\"\"\n",
    "\n",
    "#types of tree\n",
    "\"\"\"\n",
    "General tree\n",
    "forest tree (if root node gets deleted it would in same structure of tree )\n",
    "Binary tree (every node must have 2 child )\n",
    "        3 types of binary tree\n",
    "                        Full binary tree (every node must have 2 child and all leaf node must be at same level or 0 child)\n",
    "                        complete bijary tree\n",
    "                        perfect binary tree(evry node has 2 child)\n",
    "\n",
    "\n",
    "                        \n",
    "binary search( tree small value left and large value at the right)\n",
    "\n",
    "\"\"\"\n",
    "\n",
    "#Tree traversal techniques\n",
    "\n",
    "DFS                                                             BFS\n",
    "in order(Left root right)                                    Level order\n",
    "pre order(root left right)\n",
    "post order(left right root)"
   ]
  },
  {
   "cell_type": "code",
   "execution_count": null,
   "metadata": {},
   "outputs": [],
   "source": []
  }
 ],
 "metadata": {
  "language_info": {
   "name": "python"
  }
 },
 "nbformat": 4,
 "nbformat_minor": 2
}
