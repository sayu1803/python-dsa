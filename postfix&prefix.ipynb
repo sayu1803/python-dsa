{
 "cells": [
  {
   "cell_type": "code",
   "execution_count": null,
   "metadata": {},
   "outputs": [],
   "source": [
    "#infix to postfix\n",
    "\n",
    "\n",
    "\n",
    "Infix to Prifix\n",
    "\n",
    "priority \n",
    "top    ^\n",
    "       * / %\n",
    "low    + -\n",
    "No priority\n",
    "    ()\n",
    "\n",
    "\n",
    "    rule : >= priority ----> pop\n",
    "\n",
    "\n",
    "Q:    a+b*(c^d-e)^(f+g*h)-i\n",
    "\n",
    "    stack                   Ans\n",
    "0                            a\n",
    "1    +\n",
    "2                            ab\n",
    "3    +*                                    (is \"+\">=\"*\" ----> False)\n",
    "4    +*(                                   (\"(\" ----> no comparison direct in)\n",
    "5                            abc\n",
    "6    +*(^\n",
    "7                            abcd\n",
    "8    +(-                    abcd^         (\"\">=\"-\" ----> True)\n",
    "9                            abcd^e\n",
    "10                           abcd^e-    (\")\"----> everything pop but don't include \"(\" or \")\" till \"(\" occur)\n",
    "11   +*\n",
    "12   +*^\n",
    "13   +*^(\n",
    "14                           abcd^e-f\n",
    "15   +*^(+\n",
    "16                           abcd^e-fg\n",
    "17   +^(+\n",
    "18                           abcd^e-fgh\n",
    "19   +^                     abcd^e-fgh+\n",
    "20   -                       abcd^e-fgh*+^*+\n",
    "21                           abcd^e-fgh*+^*+i \n",
    "22                           abcd^e-fgh*+^*+i-\n",
    "Finel Ans : \n",
    "abcd^e-fgh*+^*+i-\n",
    "\n"
   ]
  },
  {
   "cell_type": "code",
   "execution_count": null,
   "metadata": {},
   "outputs": [],
   "source": [
    "class sollution:\n",
    "    def infixtopostfix(self,str):\n",
    "        ans=0\n",
    "        s=[]\n",
    "        for char in str:\n",
    "            if char.isalpha():\n",
    "                ans+=char\n",
    "            \n"
   ]
  }
 ],
 "metadata": {
  "language_info": {
   "name": "python"
  }
 },
 "nbformat": 4,
 "nbformat_minor": 2
}
