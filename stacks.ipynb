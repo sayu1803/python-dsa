{
 "cells": [
  {
   "cell_type": "code",
   "execution_count": null,
   "metadata": {},
   "outputs": [],
   "source": [
    "'''operations in stack\n",
    "push \n",
    "pop\n",
    "peek\n",
    "isempty\n",
    "size'''"
   ]
  },
  {
   "cell_type": "code",
   "execution_count": 1,
   "metadata": {},
   "outputs": [],
   "source": [
    "class Node:\n",
    "    def __init__(self,value):\n",
    "        self.data=value\n",
    "        self.next=None"
   ]
  },
  {
   "cell_type": "code",
   "execution_count": 2,
   "metadata": {},
   "outputs": [],
   "source": [
    "class stack:\n",
    "    def __init__(self):\n",
    "        self.top=None\n",
    "    \n",
    "    def isempty(self):\n",
    "        return self.top==None\n",
    "    \n",
    "    def push(self,value):\n",
    "        new_node=Node(value)\n",
    "        new_node.next=self.top\n",
    "        self.top=new_node\n",
    "    \n",
    "    def traverse(self):\n",
    "        temp=self.top\n",
    "\n",
    "        while temp!=None:\n",
    "            print(temp.data)\n",
    "            temp=temp.next\n",
    "    def peek(self):\n",
    "        if(self.isempty()):\n",
    "            return 'Empty Stack'\n",
    "        else:\n",
    "            return self.top.data\n",
    "    \n",
    "    def pop(self):\n",
    "        if(self.isempty()):\n",
    "            return \"EMPTY STACK CAN NOT POP\"\n",
    "        else:\n",
    "            data=self.top.data\n",
    "            self.top=self.top.next\n",
    "            return data\n",
    "    def size(self):\n",
    "        \n",
    "        if(self.isempty()):\n",
    "            return 'empty stack'\n",
    "        else:\n",
    "            curr=self.top\n",
    "            count=0\n",
    "            while curr!=None:\n",
    "                curr=curr.next\n",
    "                count+=1\n",
    "            return count\n",
    "    \n",
    "\n",
    "\n",
    "        "
   ]
  },
  {
   "cell_type": "code",
   "execution_count": 3,
   "metadata": {},
   "outputs": [],
   "source": [
    "L=[\n",
    "    [0,0,1,0],\n",
    "    [1,0,1,0],\n",
    "    [0,0,0,0],\n",
    "    [0,0,1,1]\n",
    "]"
   ]
  },
  {
   "cell_type": "code",
   "execution_count": 22,
   "metadata": {},
   "outputs": [],
   "source": [
    "def find_the_celeb(L):\n",
    "    s=stack()\n",
    "    for i in range(len(L)):\n",
    "        s.push(i)\n",
    "    while s.size()>=2:\n",
    "        i=s.pop()\n",
    "        j=s.pop()\n",
    "        if L[i][j]==0:\n",
    "            s.push(i)\n",
    "        else:\n",
    "            s.push(j)\n",
    "    celrb=s.pop()"
   ]
  },
  {
   "cell_type": "code",
   "execution_count": 23,
   "metadata": {},
   "outputs": [
    {
     "name": "stdout",
     "output_type": "stream",
     "text": [
      "2\n",
      "None\n"
     ]
    }
   ],
   "source": [
    "find_the_celeb(L)"
   ]
  },
  {
   "cell_type": "code",
   "execution_count": 79,
   "metadata": {},
   "outputs": [],
   "source": [
    "#string reversal using stack\n",
    "def reverse(text):\n",
    "    s=stack()\n",
    "    for i in text:\n",
    "        s.push(i)\n",
    "    res=\"\"\n",
    "    while( not s.isempty()):\n",
    "        res=res+s.pop()\n",
    "    print(res)\n",
    "\n",
    "#text editor u = undo , r=redo\n",
    "def txt_editor(text,pattern):\n",
    "    u=stack()\n",
    "    r=stack()\n",
    "    for i in text:\n",
    "        u.push(i)\n",
    "    for i in pattern:\n",
    "        if i=='u':\n",
    "            data=u.pop()\n",
    "            r.push(data)\n",
    "        elif i=='r':\n",
    "            data=r.pop()\n",
    "            u.push(data)\n",
    "    res=\"\"\n",
    "    while(not u.isempty() ):\n",
    "        res=u.pop()+res\n",
    "    print(res)\n",
    "    # celebrity prob\n",
    "    \n",
    "\n",
    "    \n",
    "\n",
    "\n",
    "    "
   ]
  },
  {
   "cell_type": "code",
   "execution_count": 89,
   "metadata": {},
   "outputs": [
    {
     "name": "stdout",
     "output_type": "stream",
     "text": [
      "he\n"
     ]
    }
   ],
   "source": [
    "txt_editor(\"hello\",\"uuuur\")"
   ]
  },
  {
   "cell_type": "code",
   "execution_count": 54,
   "metadata": {},
   "outputs": [],
   "source": [
    "s=stack()\n",
    "\n"
   ]
  },
  {
   "cell_type": "code",
   "execution_count": 55,
   "metadata": {},
   "outputs": [],
   "source": [
    "s.push(1)\n",
    "s.push(2)\n",
    "s.push(3)\n",
    "s.push(33)\n"
   ]
  },
  {
   "cell_type": "code",
   "execution_count": 46,
   "metadata": {},
   "outputs": [
    {
     "name": "stdout",
     "output_type": "stream",
     "text": [
      "33\n",
      "3\n",
      "2\n",
      "1\n"
     ]
    },
    {
     "data": {
      "text/plain": [
       "False"
      ]
     },
     "execution_count": 46,
     "metadata": {},
     "output_type": "execute_result"
    }
   ],
   "source": [
    "s.traverse()\n",
    "s.isempty()"
   ]
  },
  {
   "cell_type": "code",
   "execution_count": 56,
   "metadata": {},
   "outputs": [
    {
     "data": {
      "text/plain": [
       "4"
      ]
     },
     "execution_count": 56,
     "metadata": {},
     "output_type": "execute_result"
    }
   ],
   "source": [
    "s.size()\n"
   ]
  },
  {
   "cell_type": "code",
   "execution_count": 51,
   "metadata": {},
   "outputs": [],
   "source": [
    "s.pop()\n",
    "s.traverse()"
   ]
  },
  {
   "cell_type": "code",
   "execution_count": 52,
   "metadata": {},
   "outputs": [
    {
     "data": {
      "text/plain": [
       "'Empty Stack'"
      ]
     },
     "execution_count": 52,
     "metadata": {},
     "output_type": "execute_result"
    }
   ],
   "source": [
    "s.peek()"
   ]
  }
 ],
 "metadata": {
  "kernelspec": {
   "display_name": "Python 3",
   "language": "python",
   "name": "python3"
  },
  "language_info": {
   "codemirror_mode": {
    "name": "ipython",
    "version": 3
   },
   "file_extension": ".py",
   "mimetype": "text/x-python",
   "name": "python",
   "nbconvert_exporter": "python",
   "pygments_lexer": "ipython3",
   "version": "3.12.1"
  }
 },
 "nbformat": 4,
 "nbformat_minor": 2
}
