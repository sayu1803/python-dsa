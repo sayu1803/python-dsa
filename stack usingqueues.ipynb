{
 "cells": [
  {
   "cell_type": "code",
   "execution_count": null,
   "metadata": {},
   "outputs": [],
   "source": [
    "#stack using 2 queues\n",
    "\n",
    "\n",
    "#eg input = 7 15 14 32 \n",
    "\n",
    "#sample output =32 14 15 7"
   ]
  },
  {
   "cell_type": "code",
   "execution_count": 1,
   "metadata": {},
   "outputs": [],
   "source": [
    "class sollution:\n",
    "    def stackusingqueues(A):\n",
    "        queue1=[]\n",
    "        queue2=[]\n",
    "        for i in A:\n",
    "            if queue1.isempty()==True:\n",
    "                queue1.append(A[i])\n",
    "            elif queue2.isempty()==True:\n",
    "                queue2.append(A[i])\n",
    "            else:\n",
    "                a=queue2.pop()\n",
    "                queue1.insert(a)\n",
    "                queue2.append(A[i])\n",
    "        return queue1\n",
    "    \n",
    "def main():\n",
    "    A=list(map(int, input().strip().split()))\n",
    "    obj=sollution()\n",
    "    print(obj.stackusingqueues(A))\n",
    "\n"
   ]
  },
  {
   "cell_type": "code",
   "execution_count": null,
   "metadata": {},
   "outputs": [],
   "source": [
    "class Solution:\n",
    "    def __init__(self):\n",
    "        self.queue1 = []\n",
    "        self.queue2 = []\n",
    "\n",
    "    def stack_using_queues(self, A):\n",
    "        for i in A:\n",
    "            # Always push to queue1\n",
    "            self.queue1.append(i)\n",
    "        \n",
    "        while self.queue1:\n",
    "            # Transfer all elements from queue1 to queue2, keeping the order\n",
    "            element = self.queue1.pop(0)\n",
    "            self.queue2.append(element)\n",
    "        \n",
    "        # At this point, queue2 contains the stack elements in reverse order\n",
    "        return self.queue2\n",
    "\n",
    "def main():\n",
    "    A = list(map(int, input().strip().split()))\n",
    "    obj = Solution()\n",
    "    print(obj.stack_using_queues(A))\n",
    "\n",
    "if __name__ == \"__main__\":\n",
    "    main()\n"
   ]
  }
 ],
 "metadata": {
  "kernelspec": {
   "display_name": "Python 3",
   "language": "python",
   "name": "python3"
  },
  "language_info": {
   "codemirror_mode": {
    "name": "ipython",
    "version": 3
   },
   "file_extension": ".py",
   "mimetype": "text/x-python",
   "name": "python",
   "nbconvert_exporter": "python",
   "pygments_lexer": "ipython3",
   "version": "3.12.4"
  }
 },
 "nbformat": 4,
 "nbformat_minor": 2
}
