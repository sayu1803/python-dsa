{
 "cells": [
  {
   "cell_type": "code",
   "execution_count": 1,
   "metadata": {},
   "outputs": [
    {
     "data": {
      "text/plain": [
       "'You are given a string that represents an email address: \"My e-mail: eMail_Address321@anymail.com\". Your task is to analyze the composition of the characters in the string and determine the percentage of uppercase letters, lowercase letters, digits, and other characters such as symbols (#$., etc).\\n\\nTo accomplish this, you need to break down the string and calculate the percentage for each category. The results are as follows:\\n\\nUppercase letters: 7.5% Lowercase letters: 65% Digits: 7.5% Other characters (symbols): 20%\\n\\nImportant Note: Ensure that you save your solution before progressing to the next question and before submitting your answer.\\n\\nExercise-1\\n\\nInput :\\n\\nSupport1@litwork.in\\n\\nOutput :\\n\\n5.263% 78.947% 5.263% 10.526%\\n\\nExercise-2\\n\\nInput:\\n\\nClient.1234@litwork.in\\n\\nOutput:\\n\\n4.545% 63.636% 18.182% 13.636%'"
      ]
     },
     "execution_count": 1,
     "metadata": {},
     "output_type": "execute_result"
    }
   ],
   "source": [
    "\"\"\"You are given a string that represents an email address: \"My e-mail: eMail_Address321@anymail.com\". Your task is to analyze the composition of the characters in the string and determine the percentage of uppercase letters, lowercase letters, digits, and other characters such as symbols (#$., etc).\n",
    "\n",
    "To accomplish this, you need to break down the string and calculate the percentage for each category. The results are as follows:\n",
    "\n",
    "Uppercase letters: 7.5% Lowercase letters: 65% Digits: 7.5% Other characters (symbols): 20%\n",
    "\n",
    "Important Note: Ensure that you save your solution before progressing to the next question and before submitting your answer.\n",
    "\n",
    "Exercise-1\n",
    "\n",
    "Input :\n",
    "\n",
    "Support1@litwork.in\n",
    "\n",
    "Output :\n",
    "\n",
    "5.263% 78.947% 5.263% 10.526%\n",
    "\n",
    "Exercise-2\n",
    "\n",
    "Input:\n",
    "\n",
    "Client.1234@litwork.in\n",
    "\n",
    "Output:\n",
    "\n",
    "4.545% 63.636% 18.182% 13.636%\"\"\""
   ]
  },
  {
   "cell_type": "code",
   "execution_count": 4,
   "metadata": {},
   "outputs": [],
   "source": [
    "def e_ad(e_d):\n",
    "    n = len(e_d)\n",
    "    uc = sum(1 for char in e_d if char.isupper())\n",
    "    lc = sum(1 for char in e_d if char.islower())\n",
    "    dc = sum(1 for char in e_d if char.isdigit())\n",
    "    spc = n - uc - lc - dc\n",
    "\n",
    "    uc_p = (uc * 100 / n)\n",
    "    lc_p = (lc * 100 / n)\n",
    "    dc_p = (dc * 100 / n)\n",
    "    spc_p = (spc * 100 / n)\n",
    "    \n",
    "    return uc_p, lc_p, dc_p, spc_p\n",
    "\n",
    "e_d = input(\"Enter a string: \")\n",
    "uc_p, lc_p, dc_p, spc_p = e_ad(e_d)\n",
    "print(f\"Uppercase percentage: {uc_p:.2f}%\")\n",
    "print(f\"Lowercase percentage: {lc_p:.2f}%\")\n",
    "print(f\"Digits percentage: {dc_p:.2f}%\")\n",
    "print(f\"Special characters percentage: {spc_p:.2f}%\")\n"
   ]
  },
  {
   "cell_type": "code",
   "execution_count": null,
   "metadata": {},
   "outputs": [],
   "source": []
  }
 ],
 "metadata": {
  "kernelspec": {
   "display_name": "Python 3",
   "language": "python",
   "name": "python3"
  },
  "language_info": {
   "codemirror_mode": {
    "name": "ipython",
    "version": 3
   },
   "file_extension": ".py",
   "mimetype": "text/x-python",
   "name": "python",
   "nbconvert_exporter": "python",
   "pygments_lexer": "ipython3",
   "version": "3.12.1"
  }
 },
 "nbformat": 4,
 "nbformat_minor": 2
}
