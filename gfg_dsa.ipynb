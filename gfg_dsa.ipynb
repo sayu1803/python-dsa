{
 "cells": [
  {
   "cell_type": "code",
   "execution_count": null,
   "metadata": {},
   "outputs": [],
   "source": [
    "#Reverse words in a given string"
   ]
  },
  {
   "cell_type": "code",
   "execution_count": 1,
   "metadata": {},
   "outputs": [],
   "source": [
    "# User function Template for python3\n",
    "\n",
    "class Solution:\n",
    "    \n",
    "    # Function to reverse words in a given string.\n",
    "    def reverseWords(self, S):\n",
    "        words = S.split('.')\n",
    "        words = words[::-1]\n",
    "        reversed_str = '.'.join(words)\n",
    "        return reversed_str\n",
    "\n",
    "#{ \n",
    " # Driver Code Starts\n",
    "# Initial Template for Python 3\n",
    "\n",
    "if __name__ == '__main__':\n",
    "    t = int(input())\n",
    "    for i in range(t):\n",
    "        s = str(input())\n",
    "        obj = Solution()\n",
    "        print(obj.reverseWords(s))\n",
    "\n",
    "# } Driver Code Ends"
   ]
  },
  {
   "cell_type": "code",
   "execution_count": null,
   "metadata": {},
   "outputs": [],
   "source": [
    "#Palindrome String"
   ]
  },
  {
   "cell_type": "code",
   "execution_count": null,
   "metadata": {},
   "outputs": [],
   "source": [
    "#User function Template for python3\n",
    "class Solution:\n",
    "\tdef isPalindrome(self, S):\n",
    "\t    \n",
    "\t    a=[]\n",
    "\t    b=[]\n",
    "\t\tfor char in S:\n",
    "\t\t    a.append(char)\n",
    "\t\tn=len(a)\n",
    "\t\tif n==0:\n",
    "\t\t    return 1\n",
    "\t\tif n==1:\n",
    "\t\t    return 1\n",
    "\t\tif n%2!=0:\n",
    "\t\t    return 0\n",
    "\t\tfor i in range(0,n//2):\n",
    "\t\t    b.append(a[i])\n",
    "\t\tfor j in range(n//2,n):\n",
    "\t\t    if b.pop()==a[j]:\n",
    "\t\t        continue\n",
    "\t\t    else:\n",
    "\t\t        return 0\n",
    "\t\treturn 1\n",
    "\t\t            \n",
    "\t\t    \n",
    "\n",
    "\n",
    "#{ \n",
    " # Driver Code Starts\n",
    "#Initial Template for Python 3\n",
    "\n",
    "if __name__ == '__main__':\n",
    "\tT=int(input())\n",
    "\tfor i in range(T):\n",
    "\t\tS = input()\n",
    "\t\tob = Solution()\n",
    "\t\tanswer = ob.isPalindrome(S)\n",
    "\t\tprint(answer)\n",
    "\n",
    "# } Driver Code Ends"
   ]
  },
  {
   "cell_type": "code",
   "execution_count": null,
   "metadata": {},
   "outputs": [],
   "source": [
    "#rotate array"
   ]
  },
  {
   "cell_type": "code",
   "execution_count": null,
   "metadata": {},
   "outputs": [],
   "source": [
    "class Solution:\n",
    "    #Function to rotate an array by d elements in counter-clockwise direction. \n",
    "    def rotateArr(self,A,D,N):\n",
    "        #Your code here\n",
    "        for i in range(D):\n",
    "            A.append(A[i])\n",
    "            \n",
    "        A[:]=A[D:]\n",
    "            \n",
    "\n",
    "\n",
    "#{ \n",
    " # Driver Code Starts\n",
    "#Initial Template for Python 3\n",
    "\n",
    "import math\n",
    "def main():\n",
    "    T=int(input())\n",
    "    \n",
    "    while(T>0):\n",
    "        nd=[int(x) for x in input().strip().split()]\n",
    "        N=nd[0]\n",
    "        D=nd[1]\n",
    "        A=[int(x) for x in input().strip().split()]\n",
    "        ob=Solution()\n",
    "        ob.rotateArr(A,D,N)\n",
    "        \n",
    "        for i in A:\n",
    "            print(i,end=\" \")\n",
    "            \n",
    "        print()\n",
    "       \n",
    "        T-=1\n",
    "\n",
    "if __name__==\"__main__\":\n",
    "    main()\n",
    "# } Driver Code Ends"
   ]
  }
 ],
 "metadata": {
  "kernelspec": {
   "display_name": "Python 3",
   "language": "python",
   "name": "python3"
  },
  "language_info": {
   "codemirror_mode": {
    "name": "ipython",
    "version": 3
   },
   "file_extension": ".py",
   "mimetype": "text/x-python",
   "name": "python",
   "nbconvert_exporter": "python",
   "pygments_lexer": "ipython3",
   "version": "3.12.1"
  }
 },
 "nbformat": 4,
 "nbformat_minor": 2
}
