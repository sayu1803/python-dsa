{
 "cells": [
  {
   "cell_type": "code",
   "execution_count": 1,
   "metadata": {},
   "outputs": [],
   "source": [
    "class Node:\n",
    "    def __init__(self,value):\n",
    "        self.data=value\n",
    "        self.next=None"
   ]
  },
  {
   "cell_type": "code",
   "execution_count": 7,
   "metadata": {},
   "outputs": [
    {
     "name": "stdout",
     "output_type": "stream",
     "text": [
      "Item not found\n"
     ]
    }
   ],
   "source": [
    "#in empty linked list Head=None\n",
    "class LinkedList:\n",
    "    def __init__(self):\n",
    "        #Empty Linked List\n",
    "        self.head = None\n",
    "        #no of nodes in LL\n",
    "        self.n=0\n",
    "    def __len__(self):\n",
    "        return self.n\n",
    "    def insert_head(self,value):\n",
    "        #new node\n",
    "        new_node=Node(value)\n",
    "\n",
    "        #create connection\n",
    "        new_node.next=self.head\n",
    "\n",
    "        #reassign head\n",
    "        self.head=new_node\n",
    "\n",
    "        #increment n\n",
    "        self.n=self.n+1\n",
    "        \n",
    "    #traverse\n",
    "    def __str__(self):\n",
    "        curr = self.head\n",
    "        result = ''\n",
    "\n",
    "        while curr != None:\n",
    "            result = result + str(curr.data) + '->'\n",
    "            curr = curr.next\n",
    "        return result[:-2]\n",
    "    \n",
    "    #inserting from tail\n",
    "\n",
    "    def append(self,value):\n",
    "        new_node=Node(value)\n",
    "        if self.head==None:\n",
    "            #empty\n",
    "            self.head=new_node\n",
    "            self.n=self.n+1\n",
    "            return\n",
    "\n",
    "        curr=self.head\n",
    "        while curr.next!=None:\n",
    "            curr=curr.next\n",
    "        #now we are at the last node\n",
    "        curr.next=new_node\n",
    "        self.n=self.n+1\n",
    "        \n",
    "\n",
    "    #inserting in the middle of LL\n",
    "    def insert_after(self,after,value):\n",
    "        new_node=Node(value)\n",
    "        curr= self.head\n",
    "        while curr!=None:\n",
    "            if curr.data==after:\n",
    "                break\n",
    "            curr=curr.next\n",
    "\n",
    "            #case 1 braek -> item meko mil gya ->curr->not none\n",
    "            if curr!=None:\n",
    "                new_node.next=curr.next\n",
    "                curr.next=new_node\n",
    "            else:\n",
    "                return 'Item not found'\n",
    "            \n",
    "\n"
   ]
  },
  {
   "cell_type": "code",
   "execution_count": 4,
   "metadata": {},
   "outputs": [
    {
     "ename": "NameError",
     "evalue": "name 'Node' is not defined",
     "output_type": "error",
     "traceback": [
      "\u001b[1;31m---------------------------------------------------------------------------\u001b[0m",
      "\u001b[1;31mNameError\u001b[0m                                 Traceback (most recent call last)",
      "Cell \u001b[1;32mIn[4], line 4\u001b[0m\n\u001b[0;32m      1\u001b[0m L \u001b[38;5;241m=\u001b[39m LinkedList()\n\u001b[0;32m      3\u001b[0m \u001b[38;5;66;03m# Inserting nodes at the head\u001b[39;00m\n\u001b[1;32m----> 4\u001b[0m \u001b[43mL\u001b[49m\u001b[38;5;241;43m.\u001b[39;49m\u001b[43minsert_head\u001b[49m\u001b[43m(\u001b[49m\u001b[38;5;241;43m1\u001b[39;49m\u001b[43m)\u001b[49m\n\u001b[0;32m      5\u001b[0m L\u001b[38;5;241m.\u001b[39minsert_head(\u001b[38;5;241m2\u001b[39m)\n\u001b[0;32m      6\u001b[0m L\u001b[38;5;241m.\u001b[39minsert_head(\u001b[38;5;241m3\u001b[39m)\n",
      "Cell \u001b[1;32mIn[3], line 12\u001b[0m, in \u001b[0;36mLinkedList.insert_head\u001b[1;34m(self, value)\u001b[0m\n\u001b[0;32m     10\u001b[0m \u001b[38;5;28;01mdef\u001b[39;00m \u001b[38;5;21minsert_head\u001b[39m(\u001b[38;5;28mself\u001b[39m,value):\n\u001b[0;32m     11\u001b[0m     \u001b[38;5;66;03m#new node\u001b[39;00m\n\u001b[1;32m---> 12\u001b[0m     new_node\u001b[38;5;241m=\u001b[39m\u001b[43mNode\u001b[49m(value)\n\u001b[0;32m     14\u001b[0m     \u001b[38;5;66;03m#create connection\u001b[39;00m\n\u001b[0;32m     15\u001b[0m     new_node\u001b[38;5;241m.\u001b[39mnext\u001b[38;5;241m=\u001b[39m\u001b[38;5;28mself\u001b[39m\u001b[38;5;241m.\u001b[39mhead\n",
      "\u001b[1;31mNameError\u001b[0m: name 'Node' is not defined"
     ]
    }
   ],
   "source": [
    "L = LinkedList()\n",
    "\n",
    "# Inserting nodes at the head\n",
    "L.insert_head(1)\n",
    "L.insert_head(2)\n",
    "L.insert_head(3)\n",
    "L.insert_head(4)\n",
    "\n",
    "\n",
    "# Printing the string representation of the linked list\n",
    "print(L)\n",
    "#inserting from tail\n",
    "L.append(5)\n",
    "print(L)\n",
    "\n"
   ]
  },
  {
   "cell_type": "code",
   "execution_count": 6,
   "metadata": {},
   "outputs": [
    {
     "ename": "NameError",
     "evalue": "name 'Node' is not defined",
     "output_type": "error",
     "traceback": [
      "\u001b[1;31m---------------------------------------------------------------------------\u001b[0m",
      "\u001b[1;31mNameError\u001b[0m                                 Traceback (most recent call last)",
      "Cell \u001b[1;32mIn[6], line 2\u001b[0m\n\u001b[0;32m      1\u001b[0m \u001b[38;5;66;03m#inserting from tail\u001b[39;00m\n\u001b[1;32m----> 2\u001b[0m \u001b[43mL\u001b[49m\u001b[38;5;241;43m.\u001b[39;49m\u001b[43mappend\u001b[49m\u001b[43m(\u001b[49m\u001b[38;5;241;43m5\u001b[39;49m\u001b[43m)\u001b[49m\n",
      "Cell \u001b[1;32mIn[5], line 36\u001b[0m, in \u001b[0;36mLinkedList.append\u001b[1;34m(self, value)\u001b[0m\n\u001b[0;32m     35\u001b[0m \u001b[38;5;28;01mdef\u001b[39;00m \u001b[38;5;21mappend\u001b[39m(\u001b[38;5;28mself\u001b[39m,value):\n\u001b[1;32m---> 36\u001b[0m     new_node\u001b[38;5;241m=\u001b[39m\u001b[43mNode\u001b[49m(value)\n\u001b[0;32m     37\u001b[0m     \u001b[38;5;28;01mif\u001b[39;00m \u001b[38;5;28mself\u001b[39m\u001b[38;5;241m.\u001b[39mhead\u001b[38;5;241m==\u001b[39m\u001b[38;5;28;01mNone\u001b[39;00m:\n\u001b[0;32m     38\u001b[0m         \u001b[38;5;66;03m#empty\u001b[39;00m\n\u001b[0;32m     39\u001b[0m         \u001b[38;5;28mself\u001b[39m\u001b[38;5;241m.\u001b[39mhead\u001b[38;5;241m=\u001b[39mnew_node\n",
      "\u001b[1;31mNameError\u001b[0m: name 'Node' is not defined"
     ]
    }
   ],
   "source": [
    "\n",
    "#inserting from tail\n",
    "L.append(5)\n"
   ]
  },
  {
   "cell_type": "code",
   "execution_count": 18,
   "metadata": {},
   "outputs": [
    {
     "data": {
      "text/plain": [
       "'\\n4 main operation in linked list\\nInsert (from head, tail and middle)\\nTraverse(print)\\nDelete(from head, tail, value and index)\\nSearch(by value and by index)\\n'"
      ]
     },
     "execution_count": 18,
     "metadata": {},
     "output_type": "execute_result"
    }
   ],
   "source": [
    "\n",
    "\"\"\"\n",
    "4 main operation in linked list\n",
    "Insert (from head, tail and middle)\n",
    "Traverse(print)\n",
    "Delete(from head, tail, value and index)\n",
    "Search(by value and by index)\n",
    "\"\"\""
   ]
  },
  {
   "cell_type": "code",
   "execution_count": null,
   "metadata": {},
   "outputs": [],
   "source": []
  }
 ],
 "metadata": {
  "kernelspec": {
   "display_name": "Python 3",
   "language": "python",
   "name": "python3"
  },
  "language_info": {
   "codemirror_mode": {
    "name": "ipython",
    "version": 3
   },
   "file_extension": ".py",
   "mimetype": "text/x-python",
   "name": "python",
   "nbconvert_exporter": "python",
   "pygments_lexer": "ipython3",
   "version": "3.12.1"
  }
 },
 "nbformat": 4,
 "nbformat_minor": 2
}
