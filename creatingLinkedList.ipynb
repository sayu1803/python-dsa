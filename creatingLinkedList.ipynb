{
 "cells": [
  {
   "cell_type": "code",
   "execution_count": 1,
   "metadata": {},
   "outputs": [],
   "source": [
    "class Node:\n",
    "    def __init__(self,value):\n",
    "        self.data=value\n",
    "        self.next=None"
   ]
  },
  {
   "cell_type": "code",
   "execution_count": 169,
   "metadata": {},
   "outputs": [],
   "source": [
    "#in empty linked list Head=None\n",
    "class LinkedList:\n",
    "    def __init__(self):\n",
    "        #Empty Linked List\n",
    "        self.head = None\n",
    "        #no of nodes in LL\n",
    "        self.n=0\n",
    "    def __len__(self):\n",
    "        return self.n\n",
    "    \n",
    "    def insert_head(self,value):\n",
    "        #new node\n",
    "        new_node=Node(value)\n",
    "\n",
    "        #create connection\n",
    "        new_node.next=self.head\n",
    "\n",
    "        #reassign head\n",
    "        self.head=new_node\n",
    "\n",
    "        #increment n\n",
    "        self.n=self.n+1\n",
    "        \n",
    "    #traverse\n",
    "    def __str__(self):\n",
    "        curr = self.head\n",
    "        result = ''\n",
    "\n",
    "        while curr != None:\n",
    "            result = result + str(curr.data) + '->'\n",
    "            curr = curr.next\n",
    "        return result[:-2]\n",
    "    \n",
    "    #inserting from tail\n",
    "\n",
    "    def append(self,value):\n",
    "        new_node=Node(value)\n",
    "        if self.head==None:\n",
    "            #empty\n",
    "            self.head=new_node\n",
    "            self.n=self.n+1\n",
    "            return\n",
    "\n",
    "        curr=self.head\n",
    "        while curr.next!=None:\n",
    "            curr=curr.next\n",
    "        #now we are at the last node\n",
    "        curr.next=new_node\n",
    "        self.n=self.n+1\n",
    "        \n",
    "    \n",
    "\n",
    "    #inserting in the middle of LL\n",
    "    def insert_after(self, after, value):\n",
    "        new_node = Node(value)\n",
    "        curr = self.head\n",
    "        while curr != None:\n",
    "            if curr.data == after:\n",
    "                break\n",
    "            curr = curr.next\n",
    "\n",
    "        # case 1: break -> item meko mil gya ->curr->not none\n",
    "        if curr != None:\n",
    "            new_node.next = curr.next\n",
    "            curr.next = new_node\n",
    "            self.n=self.n+1\n",
    "        else:\n",
    "            return 'Item not found'\n",
    "        \n",
    "    #deliting from LL\n",
    "    \n",
    "    #full delete/empty the LL\n",
    "    def clear(self):\n",
    "        self.head=0\n",
    "        self.n=0    \n",
    "    #head\n",
    "    def del_head(self):\n",
    "        if self.head==None:\n",
    "            print(\"List is empty\")\n",
    "        \n",
    "        self.head=self.head.next\n",
    "        self.n=self.n-1\n",
    "\n",
    "    #tail\n",
    "    def del_tail(self):\n",
    "        curr=self.head\n",
    "        if self.head==None:\n",
    "            return 'Empty'\n",
    "        if curr.next==None:\n",
    "            self.del_head()\n",
    "        \n",
    "        while curr.next.next!=None:\n",
    "            curr=curr.next\n",
    "        #now the curr is 2nd last item\n",
    "        curr.next=None\n",
    "        self.n=self.n-1\n",
    "\n",
    "        \n",
    "    #by value\n",
    "    def del_value(self, value):\n",
    "        curr=self.head\n",
    "        if self.head==value:\n",
    "            return self.del_head()\n",
    "        while curr.next!=None:\n",
    "            if curr.next.data==value:\n",
    "                break\n",
    "            curr=curr.next\n",
    "        #iem found \n",
    "        if curr.next==None:\n",
    "            return 'Not Found'    \n",
    "        #item not found\n",
    "        else:\n",
    "            curr.next=curr.next.next\n",
    "        \n",
    "\n",
    "\n",
    "\n",
    "\n"
   ]
  },
  {
   "cell_type": "code",
   "execution_count": 170,
   "metadata": {},
   "outputs": [
    {
     "name": "stdout",
     "output_type": "stream",
     "text": [
      "4->3->2->1\n"
     ]
    }
   ],
   "source": [
    "L = LinkedList()\n",
    "\n",
    "# Inserting nodes at the head\n",
    "L.insert_head(1)\n",
    "L.insert_head(2)\n",
    "L.insert_head(3)\n",
    "L.insert_head(4)\n",
    "\n",
    "# Printing the string representation of the linked list\n",
    "print(L)\n",
    "\n",
    "\n"
   ]
  },
  {
   "cell_type": "code",
   "execution_count": 171,
   "metadata": {},
   "outputs": [],
   "source": [
    "\n",
    "\n",
    "#inserting from tail\n",
    "L.append(5)\n",
    "\n",
    "#insert in middle\n",
    "L.insert_after(3,20)\n",
    "\n"
   ]
  },
  {
   "cell_type": "code",
   "execution_count": 173,
   "metadata": {},
   "outputs": [
    {
     "name": "stdout",
     "output_type": "stream",
     "text": [
      "4->3->20->2->1->5\n"
     ]
    }
   ],
   "source": [
    "print(L)"
   ]
  },
  {
   "cell_type": "code",
   "execution_count": 172,
   "metadata": {},
   "outputs": [
    {
     "data": {
      "text/plain": [
       "'Not Found'"
      ]
     },
     "execution_count": 172,
     "metadata": {},
     "output_type": "execute_result"
    }
   ],
   "source": [
    "L.del_value(4)"
   ]
  },
  {
   "cell_type": "code",
   "execution_count": 111,
   "metadata": {},
   "outputs": [],
   "source": [
    "L.del_head()"
   ]
  },
  {
   "cell_type": "code",
   "execution_count": 143,
   "metadata": {},
   "outputs": [
    {
     "data": {
      "text/plain": [
       "'Empty'"
      ]
     },
     "execution_count": 143,
     "metadata": {},
     "output_type": "execute_result"
    }
   ],
   "source": [
    "L.del_tail()"
   ]
  },
  {
   "cell_type": "code",
   "execution_count": 18,
   "metadata": {},
   "outputs": [
    {
     "data": {
      "text/plain": [
       "'\\n4 main operation in linked list\\nInsert (from head, tail and middle)\\nTraverse(print)\\nDelete(from head, tail, value and index)\\nSearch(by value and by index)\\n'"
      ]
     },
     "execution_count": 18,
     "metadata": {},
     "output_type": "execute_result"
    }
   ],
   "source": [
    "\n",
    "\"\"\"\n",
    "4 main operation in linked list\n",
    "Insert (from head, tail and middle)\n",
    "Traverse(print)\n",
    "Delete(from head, tail, value and index)\n",
    "Search(by value and by index)\n",
    "\"\"\""
   ]
  },
  {
   "cell_type": "code",
   "execution_count": null,
   "metadata": {},
   "outputs": [],
   "source": []
  }
 ],
 "metadata": {
  "kernelspec": {
   "display_name": "Python 3",
   "language": "python",
   "name": "python3"
  },
  "language_info": {
   "codemirror_mode": {
    "name": "ipython",
    "version": 3
   },
   "file_extension": ".py",
   "mimetype": "text/x-python",
   "name": "python",
   "nbconvert_exporter": "python",
   "pygments_lexer": "ipython3",
   "version": "3.12.1"
  }
 },
 "nbformat": 4,
 "nbformat_minor": 2
}
