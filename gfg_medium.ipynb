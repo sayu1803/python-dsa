{
 "cells": [
  {
   "cell_type": "code",
   "execution_count": null,
   "metadata": {},
   "outputs": [],
   "source": [
    "#trapping water"
   ]
  },
  {
   "cell_type": "code",
   "execution_count": null,
   "metadata": {},
   "outputs": [],
   "source": [
    "class Solution:\n",
    "    def trappingWater(self, arr, n):\n",
    "        left = [0] * n  # Initialize left with default values\n",
    "        left[0] = arr[0]\n",
    "        right=[0]*n\n",
    "        right[n-1]=arr[n-1]\n",
    "        \n",
    "        for i in range(1, n):\n",
    "            left[i] = max(left[i-1], arr[i])\n",
    "        \n",
    "        \n",
    "        for i in range(n-2,-1,-1):\n",
    "            right[i]=max(right[i+1],arr[i])\n",
    "        \n",
    "        \n",
    "        summ=0\n",
    "        for i in range(n):\n",
    "            summ+=min(left[i],right[i])-arr[i]\n",
    "        return summ\n",
    "\n",
    "\n",
    "#{ \n",
    " # Driver Code Starts\n",
    "#Initial Template for Python 3\n",
    "\n",
    "import math\n",
    "\n",
    "\n",
    "\n",
    "def main():\n",
    "        T=int(input())\n",
    "        while(T>0):\n",
    "            \n",
    "            n=int(input())\n",
    "            \n",
    "            arr=[int(x) for x in input().strip().split()]\n",
    "            obj = Solution()\n",
    "            print(obj.trappingWater(arr,n))\n",
    "            \n",
    "            \n",
    "            T-=1\n",
    "\n",
    "\n",
    "if __name__ == \"__main__\":\n",
    "    main()\n",
    "\n",
    "\n",
    "\n",
    "# } Driver Code Ends"
   ]
  }
 ],
 "metadata": {
  "language_info": {
   "name": "python"
  }
 },
 "nbformat": 4,
 "nbformat_minor": 2
}
