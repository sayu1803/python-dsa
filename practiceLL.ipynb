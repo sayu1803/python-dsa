{
 "cells": [
  {
   "cell_type": "code",
   "execution_count": 1,
   "metadata": {},
   "outputs": [],
   "source": [
    "class Node:\n",
    "    def __init__(self,value):\n",
    "        self.data=value\n",
    "        self.next=None"
   ]
  },
  {
   "cell_type": "code",
   "execution_count": 2,
   "metadata": {},
   "outputs": [],
   "source": [
    "#in empty linked list Head=None\n",
    "class LinkedList:\n",
    "    def __init__(self):\n",
    "        #Empty Linked List\n",
    "        self.head = None\n",
    "        #no of nodes in LL\n",
    "        self.n=0\n",
    "    def __len__(self):\n",
    "        return self.n\n",
    "    \n",
    "    def insert_head(self,value):\n",
    "        #new node\n",
    "        new_node=Node(value)\n",
    "\n",
    "        #create connection\n",
    "        new_node.next=self.head\n",
    "\n",
    "        #reassign head\n",
    "        self.head=new_node\n",
    "\n",
    "        #increment n\n",
    "        self.n=self.n+1\n",
    "        \n",
    "    #traverse\n",
    "    def __str__(self):\n",
    "        result = \"\"\n",
    "        curr = self.head\n",
    "        while curr != None:\n",
    "            result += str(curr.data)\n",
    "            curr = curr.next\n",
    "        return result\n",
    "    \n",
    "    #inserting from tail\n",
    "\n",
    "    def append(self,value):\n",
    "        new_node=Node(value)\n",
    "        if self.head==None:\n",
    "            #empty\n",
    "            self.head=new_node\n",
    "            self.n=self.n+1\n",
    "            return\n",
    "\n",
    "        curr=self.head\n",
    "        while curr.next!=None:\n",
    "            curr=curr.next\n",
    "        #now we are at the last node\n",
    "        curr.next=new_node\n",
    "        self.n=self.n+1\n",
    "        \n",
    "    \n",
    "\n",
    "    #inserting in the middle of LL\n",
    "    def insert_after(self, after, value):\n",
    "        new_node = Node(value)\n",
    "        curr = self.head\n",
    "        while curr != None:\n",
    "            if curr.data == after:\n",
    "                break\n",
    "            curr = curr.next\n",
    "\n",
    "        # case 1: break -> item meko mil gya ->curr->not none\n",
    "        if curr != None:\n",
    "            new_node.next = curr.next\n",
    "            curr.next = new_node\n",
    "            self.n=self.n+1\n",
    "        else:\n",
    "            return 'Item not found'\n",
    "        \n",
    "    #deliting from LL\n",
    "    \n",
    "    #full delete/empty the LL\n",
    "    def clear(self):\n",
    "        self.head=0\n",
    "        self.n=0    \n",
    "    #head\n",
    "    def del_head(self):\n",
    "        if self.head==None:\n",
    "            print(\"List is empty\")\n",
    "        \n",
    "        self.head=self.head.next\n",
    "        self.n=self.n-1\n",
    "\n",
    "    #tail\n",
    "    def del_tail(self):\n",
    "        curr=self.head\n",
    "        if self.head==None:\n",
    "            return 'Empty'\n",
    "        if curr.next==None:\n",
    "            self.del_head()\n",
    "        \n",
    "        while curr.next.next!=None:\n",
    "            curr=curr.next\n",
    "        #now the curr is 2nd last item\n",
    "        curr.next=None\n",
    "        self.n=self.n-1\n",
    "\n",
    "        \n",
    "    #by value\n",
    "    def del_value(self, value):\n",
    "        curr=self.head\n",
    "        if self.head==value:\n",
    "            return self.del_head()\n",
    "        while curr.next!=None:\n",
    "            if curr.next.data==value:\n",
    "                break\n",
    "            curr=curr.next\n",
    "        #iem found \n",
    "        if curr.next==None:\n",
    "            return 'Not Found'    \n",
    "        #item not found\n",
    "        else:\n",
    "            curr.next=curr.next.next\n",
    "\n",
    "    #search\n",
    "    def search(self,item):\n",
    "\n",
    "        curr=self.head\n",
    "        pos=0\n",
    "\n",
    "        while curr!=None:\n",
    "            if curr.data==item:\n",
    "                return pos\n",
    "            \n",
    "            curr=curr.next\n",
    "            pos+=1\n",
    "        return 'Not Found'\n",
    "    \n",
    "    def __getitem__(self,key):\n",
    "        curr=self.head\n",
    "        pos=0\n",
    "        while curr!=None:\n",
    "            if pos==key:\n",
    "                return curr.data\n",
    "            curr= curr.next\n",
    "            pos=pos+1\n",
    "        return 'Index Not Found'\n",
    "    \n",
    "    #finding max of linked list and replacig it with a given value\n",
    "    def replace_max(self,value):\n",
    "        temp=self.head\n",
    "        max=temp\n",
    "        while temp!=None:\n",
    "            if temp.data>max.data:\n",
    "                max=temp\n",
    "            temp=temp.next\n",
    "        max.data=value\n",
    "    #finding the sum of elements in the odd position of LL\n",
    "    \"\"\"def sum_odd(self):\n",
    "        sum=0\n",
    "        count=0\n",
    "        curr=self.head\n",
    "        while curr!=None:\n",
    "            if count%2!=0:\n",
    "                sum=sum+curr.data\n",
    "            count+=1\n",
    "            curr=curr.next\n",
    "        print(sum)\"\"\"\n",
    "    def sum_odd_nodes(self):\n",
    "        temp=self.head\n",
    "        counter=0\n",
    "        sum=0\n",
    "\n",
    "        while temp!=None:\n",
    "            if counter%2!=0:\n",
    "                sum=sum+temp.data\n",
    "            counter+=1\n",
    "            \n",
    "            temp=temp.next\n",
    "        print(sum)\n",
    "    #rev the LL\n",
    "    def reverse(self):\n",
    "        prev_node=None\n",
    "        curr=self.head\n",
    "\n",
    "        while curr!=None:\n",
    "            next=curr.next\n",
    "            curr.next=prev_node   \n",
    "            prev_node=curr\n",
    "            curr=next\n",
    "        self.head=prev_node\n",
    "    #prg to convert a linked list of strings  to string sentence where if * or / is present add space and if ** ,// , */ , /* is prenent then convert the next char to upper case \n",
    "    def convert_str(self):\n",
    "        result = \"\"\n",
    "        curr = self.head\n",
    "        while curr != None:\n",
    "            if curr.data == \"*\" and curr.next != None and curr.next.data == \"/\":\n",
    "                result += \" \"\n",
    "                result += curr.next.next.data.upper()\n",
    "                curr = curr.next.next\n",
    "            elif curr.data == \"/\" and curr.next != None and curr.next.data == \"/\":\n",
    "                result += \" \"\n",
    "                result += curr.next.next.data.upper()\n",
    "                curr = curr.next.next\n",
    "            elif curr.data == \"*\" and curr.next != None and curr.next.data == \"*\":\n",
    "                result += \" \"\n",
    "                result += curr.next.next.data.upper()\n",
    "                curr = curr.next.next\n",
    "            elif curr.data in [\"*\", \"/\"]:\n",
    "                result += \" \"\n",
    "            else:\n",
    "                result += curr.data\n",
    "            curr = curr.next\n",
    "        return result\n",
    "\n",
    "\n",
    "        \n",
    "\n"
   ]
  },
  {
   "cell_type": "code",
   "execution_count": 3,
   "metadata": {},
   "outputs": [
    {
     "name": "stdout",
     "output_type": "stream",
     "text": [
      "436251\n"
     ]
    }
   ],
   "source": [
    "L = LinkedList()\n",
    "\n",
    "# Inserting nodes at the head\n",
    "L.insert_head(1)\n",
    "L.insert_head(5)\n",
    "L.insert_head(2)\n",
    "L.insert_head(6)\n",
    "\n",
    "L.insert_head(3)\n",
    "L.insert_head(4)\n",
    "\n",
    "# Printing the string representation of the linked list\n",
    "print(L)"
   ]
  },
  {
   "cell_type": "code",
   "execution_count": 6,
   "metadata": {},
   "outputs": [
    {
     "name": "stdout",
     "output_type": "stream",
     "text": [
      "An*/a//ppl*e**k\n"
     ]
    }
   ],
   "source": [
    "L = LinkedList()\n",
    "\n",
    "# Inserting nodes at the head\n",
    "L.append(\"A\")\n",
    "L.append(\"n\")\n",
    "L.append(\"*\")\n",
    "L.append(\"/\")\n",
    "\n",
    "L.append(\"a\")\n",
    "L.append(\"/\")\n",
    "L.append(\"/\")\n",
    "L.append(\"p\")\n",
    "L.append(\"p\")\n",
    "L.append(\"l\")\n",
    "L.append(\"*\")\n",
    "L.append(\"e\")\n",
    "L.append(\"*\")\n",
    "L.append(\"*\")\n",
    "L.append(\"k\")\n",
    "\n",
    "\n",
    "\n",
    "# Printing the string representation of the linked list\n",
    "print(L)"
   ]
  },
  {
   "cell_type": "code",
   "execution_count": 7,
   "metadata": {},
   "outputs": [
    {
     "data": {
      "text/plain": [
       "'An A Ppl e K'"
      ]
     },
     "execution_count": 7,
     "metadata": {},
     "output_type": "execute_result"
    }
   ],
   "source": [
    "L.convert_str()\n"
   ]
  },
  {
   "cell_type": "code",
   "execution_count": 8,
   "metadata": {},
   "outputs": [
    {
     "name": "stdout",
     "output_type": "stream",
     "text": [
      "k**e*lpp//a/*nA\n"
     ]
    },
    {
     "ename": "TypeError",
     "evalue": "unsupported operand type(s) for +: 'int' and 'str'",
     "output_type": "error",
     "traceback": [
      "\u001b[1;31m---------------------------------------------------------------------------\u001b[0m",
      "\u001b[1;31mTypeError\u001b[0m                                 Traceback (most recent call last)",
      "Cell \u001b[1;32mIn[8], line 3\u001b[0m\n\u001b[0;32m      1\u001b[0m L\u001b[38;5;241m.\u001b[39mreverse()\n\u001b[0;32m      2\u001b[0m \u001b[38;5;28mprint\u001b[39m(L)\n\u001b[1;32m----> 3\u001b[0m \u001b[43mL\u001b[49m\u001b[38;5;241;43m.\u001b[39;49m\u001b[43msum_odd_nodes\u001b[49m\u001b[43m(\u001b[49m\u001b[43m)\u001b[49m\n\u001b[0;32m      4\u001b[0m L\u001b[38;5;241m.\u001b[39mreplace_max(\u001b[38;5;241m10\u001b[39m)\n\u001b[0;32m      5\u001b[0m \u001b[38;5;28mprint\u001b[39m(L)\n",
      "Cell \u001b[1;32mIn[2], line 165\u001b[0m, in \u001b[0;36mLinkedList.sum_odd_nodes\u001b[1;34m(self)\u001b[0m\n\u001b[0;32m    163\u001b[0m \u001b[38;5;28;01mwhile\u001b[39;00m temp\u001b[38;5;241m!=\u001b[39m\u001b[38;5;28;01mNone\u001b[39;00m:\n\u001b[0;32m    164\u001b[0m     \u001b[38;5;28;01mif\u001b[39;00m counter\u001b[38;5;241m%\u001b[39m\u001b[38;5;241m2\u001b[39m\u001b[38;5;241m!=\u001b[39m\u001b[38;5;241m0\u001b[39m:\n\u001b[1;32m--> 165\u001b[0m         \u001b[38;5;28msum\u001b[39m\u001b[38;5;241m=\u001b[39m\u001b[38;5;28;43msum\u001b[39;49m\u001b[38;5;241;43m+\u001b[39;49m\u001b[43mtemp\u001b[49m\u001b[38;5;241;43m.\u001b[39;49m\u001b[43mdata\u001b[49m\n\u001b[0;32m    166\u001b[0m     counter\u001b[38;5;241m+\u001b[39m\u001b[38;5;241m=\u001b[39m\u001b[38;5;241m1\u001b[39m\n\u001b[0;32m    168\u001b[0m     temp\u001b[38;5;241m=\u001b[39mtemp\u001b[38;5;241m.\u001b[39mnext\n",
      "\u001b[1;31mTypeError\u001b[0m: unsupported operand type(s) for +: 'int' and 'str'"
     ]
    }
   ],
   "source": [
    "L.reverse()\n",
    "print(L)\n",
    "L.sum_odd_nodes()\n",
    "L.replace_max(10)\n",
    "print(L)"
   ]
  },
  {
   "cell_type": "code",
   "execution_count": null,
   "metadata": {},
   "outputs": [
    {
     "name": "stdout",
     "output_type": "stream",
     "text": [
      "1->5->2->6->3->4\n"
     ]
    }
   ],
   "source": []
  },
  {
   "cell_type": "code",
   "execution_count": null,
   "metadata": {},
   "outputs": [
    {
     "name": "stdout",
     "output_type": "stream",
     "text": [
      "6\n"
     ]
    }
   ],
   "source": [
    "\n"
   ]
  },
  {
   "cell_type": "code",
   "execution_count": null,
   "metadata": {},
   "outputs": [],
   "source": []
  },
  {
   "cell_type": "code",
   "execution_count": null,
   "metadata": {},
   "outputs": [
    {
     "name": "stdout",
     "output_type": "stream",
     "text": [
      "4->3->10->1\n"
     ]
    }
   ],
   "source": []
  }
 ],
 "metadata": {
  "kernelspec": {
   "display_name": "Python 3",
   "language": "python",
   "name": "python3"
  },
  "language_info": {
   "codemirror_mode": {
    "name": "ipython",
    "version": 3
   },
   "file_extension": ".py",
   "mimetype": "text/x-python",
   "name": "python",
   "nbconvert_exporter": "python",
   "pygments_lexer": "ipython3",
   "version": "3.12.4"
  }
 },
 "nbformat": 4,
 "nbformat_minor": 2
}
